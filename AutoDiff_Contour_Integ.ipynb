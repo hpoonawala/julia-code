{
 "cells": [
  {
   "cell_type": "code",
   "execution_count": 1,
   "metadata": {},
   "outputs": [
    {
     "data": {
      "text/plain": [
       "nabla (generic function with 1 method)"
      ]
     },
     "execution_count": 1,
     "metadata": {},
     "output_type": "execute_result"
    }
   ],
   "source": [
    "function nabla(f, x::Float64, delta::Float64)\n",
    "\n",
    "\t  N = round(Int,2*pi/delta)\n",
    "\t  thetas = vcat(1:N)*delta\n",
    "\n",
    "\t  ## collect arguments and rotations: \n",
    "\t  rotations = map(theta -> exp(-im*theta),thetas)\n",
    "\t  arguments = x .+ conj.(rotations)  \n",
    "\n",
    "\t  ## calculate expectation: \n",
    "\t  expectation = 1.0/N*real(sum(map(f,arguments).*rotations))\n",
    "\n",
    "\t  return expectation\n",
    "\n",
    "\tend"
   ]
  },
  {
   "cell_type": "code",
   "execution_count": 2,
   "metadata": {},
   "outputs": [
    {
     "data": {
      "text/plain": [
       "mc_nabla (generic function with 1 method)"
      ]
     },
     "execution_count": 2,
     "metadata": {},
     "output_type": "execute_result"
    }
   ],
   "source": [
    "function mc_nabla(f, x::Float64, delta::Float64)\n",
    "\n",
    "\t  N = round(Int,2*pi/delta)\n",
    "\n",
    "\t  ## sample with only half the number of points: \n",
    "\t  sample = rand(1:N,round(Int,N/2)) \n",
    "\t  thetas = sample*delta\n",
    "\n",
    "\t  ## collect arguments and rotations: \n",
    "\t  rotations = map(theta -> exp(-im*theta),thetas)\n",
    "\t  arguments = x .+ conj.(rotations)  \n",
    "\n",
    "\t  ## calculate expectation: \n",
    "\t  expectation = 2.0/N*real(sum(map(f,arguments).*rotations))\n",
    "\n",
    "\t  return expectation\n",
    "\n",
    "\tend"
   ]
  },
  {
   "cell_type": "code",
   "execution_count": 3,
   "metadata": {},
   "outputs": [
    {
     "data": {
      "text/plain": [
       "mc_gradient_descent (generic function with 1 method)"
      ]
     },
     "execution_count": 3,
     "metadata": {},
     "output_type": "execute_result"
    }
   ],
   "source": [
    "function gradient_descent(f,x_p::Float64,alpha::Float64)\n",
    "  delta = 0.01;\n",
    "  ## 100 steps\n",
    "  for i=1:100\n",
    "\n",
    "    x_n = x_p - alpha*nabla(f,x_p,delta)\n",
    "    x_p = x_n\n",
    "\n",
    "  end\n",
    "\n",
    "  return x_p\n",
    "\n",
    "end\n",
    "function mc_gradient_descent(f,x_p::Float64,alpha::Float64)\n",
    "  delta = 0.01;\n",
    "  ## 100 steps\n",
    "  for i=1:100\n",
    "\n",
    "    x_n = x_p - alpha*mc_nabla(f,x_p,delta)\n",
    "    x_p = x_n\n",
    "\n",
    "  end\n",
    "\n",
    "  return x_p\n",
    "\n",
    "end"
   ]
  },
  {
   "cell_type": "code",
   "execution_count": 4,
   "metadata": {},
   "outputs": [
    {
     "data": {
      "text/plain": [
       "2.170429190115162"
      ]
     },
     "execution_count": 4,
     "metadata": {},
     "output_type": "execute_result"
    }
   ],
   "source": [
    "## function:\n",
    "g(x) = (x-1)^2 + (x-2)^4 + (x-3)^6\n",
    "\n",
    "## initial value: \n",
    "x_p = 5.0 \n",
    "\n",
    "## learning rate: \n",
    "alpha = 0.01 \n",
    "\n",
    "x_min = gradient_descent(g,x_p,alpha)"
   ]
  },
  {
   "cell_type": "code",
   "execution_count": 5,
   "metadata": {},
   "outputs": [
    {
     "data": {
      "text/plain": [
       "2.170845651944815"
      ]
     },
     "execution_count": 5,
     "metadata": {},
     "output_type": "execute_result"
    }
   ],
   "source": [
    "Z = zeros(Float64,1000,1)\n",
    "for i=1:1000\n",
    "    Z[i] = mc_gradient_descent(g,x_p,alpha)\n",
    "end\n",
    "using Statistics\n",
    "mean(Z)"
   ]
  },
  {
   "cell_type": "code",
   "execution_count": 6,
   "metadata": {},
   "outputs": [
    {
     "data": {
      "text/plain": [
       "0.0002087060156832925"
      ]
     },
     "execution_count": 6,
     "metadata": {},
     "output_type": "execute_result"
    }
   ],
   "source": [
    "var(Z)"
   ]
  }
 ],
 "metadata": {
  "kernelspec": {
   "display_name": "Julia 1.3.1",
   "language": "julia",
   "name": "julia-1.3"
  },
  "language_info": {
   "file_extension": ".jl",
   "mimetype": "application/julia",
   "name": "julia",
   "version": "1.3.1"
  }
 },
 "nbformat": 4,
 "nbformat_minor": 4
}
